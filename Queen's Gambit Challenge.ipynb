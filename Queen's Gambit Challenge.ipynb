{
 "cells": [
  {
   "cell_type": "code",
   "execution_count": 1,
   "id": "d6f7980f",
   "metadata": {},
   "outputs": [],
   "source": [
    "# Tuodaan vaadittavat Python-kirjastot\n",
    "import pandas as pd\n",
    "import matplotlib.pyplot as plt"
   ]
  },
  {
   "cell_type": "code",
   "execution_count": 2,
   "id": "0860d603",
   "metadata": {
    "collapsed": true
   },
   "outputs": [
    {
     "data": {
      "text/html": [
       "<div>\n",
       "<style scoped>\n",
       "    .dataframe tbody tr th:only-of-type {\n",
       "        vertical-align: middle;\n",
       "    }\n",
       "\n",
       "    .dataframe tbody tr th {\n",
       "        vertical-align: top;\n",
       "    }\n",
       "\n",
       "    .dataframe thead th {\n",
       "        text-align: right;\n",
       "    }\n",
       "</style>\n",
       "<table border=\"1\" class=\"dataframe\">\n",
       "  <thead>\n",
       "    <tr style=\"text-align: right;\">\n",
       "      <th></th>\n",
       "      <th>game_id</th>\n",
       "      <th>rated</th>\n",
       "      <th>turns</th>\n",
       "      <th>victory_status</th>\n",
       "      <th>winner</th>\n",
       "      <th>time_increment</th>\n",
       "      <th>white_id</th>\n",
       "      <th>white_rating</th>\n",
       "      <th>black_id</th>\n",
       "      <th>black_rating</th>\n",
       "      <th>moves</th>\n",
       "      <th>opening_code</th>\n",
       "      <th>opening_moves</th>\n",
       "      <th>opening_fullname</th>\n",
       "      <th>opening_shortname</th>\n",
       "      <th>opening_response</th>\n",
       "      <th>opening_variation</th>\n",
       "    </tr>\n",
       "  </thead>\n",
       "  <tbody>\n",
       "    <tr>\n",
       "      <th>0</th>\n",
       "      <td>1</td>\n",
       "      <td>False</td>\n",
       "      <td>13</td>\n",
       "      <td>Out of Time</td>\n",
       "      <td>White</td>\n",
       "      <td>15+2</td>\n",
       "      <td>bourgris</td>\n",
       "      <td>1500</td>\n",
       "      <td>a-00</td>\n",
       "      <td>1191</td>\n",
       "      <td>d4 d5 c4 c6 cxd5 e6 dxe6 fxe6 Nf3 Bb4+ Nc3 Ba5...</td>\n",
       "      <td>D10</td>\n",
       "      <td>5</td>\n",
       "      <td>Slav Defense: Exchange Variation</td>\n",
       "      <td>Slav Defense</td>\n",
       "      <td>NaN</td>\n",
       "      <td>Exchange Variation</td>\n",
       "    </tr>\n",
       "    <tr>\n",
       "      <th>1</th>\n",
       "      <td>2</td>\n",
       "      <td>True</td>\n",
       "      <td>16</td>\n",
       "      <td>Resign</td>\n",
       "      <td>Black</td>\n",
       "      <td>5+10</td>\n",
       "      <td>a-00</td>\n",
       "      <td>1322</td>\n",
       "      <td>skinnerua</td>\n",
       "      <td>1261</td>\n",
       "      <td>d4 Nc6 e4 e5 f4 f6 dxe5 fxe5 fxe5 Nxe5 Qd4 Nc6...</td>\n",
       "      <td>B00</td>\n",
       "      <td>4</td>\n",
       "      <td>Nimzowitsch Defense: Kennedy Variation</td>\n",
       "      <td>Nimzowitsch Defense</td>\n",
       "      <td>NaN</td>\n",
       "      <td>Kennedy Variation</td>\n",
       "    </tr>\n",
       "    <tr>\n",
       "      <th>2</th>\n",
       "      <td>3</td>\n",
       "      <td>True</td>\n",
       "      <td>61</td>\n",
       "      <td>Mate</td>\n",
       "      <td>White</td>\n",
       "      <td>5+10</td>\n",
       "      <td>ischia</td>\n",
       "      <td>1496</td>\n",
       "      <td>a-00</td>\n",
       "      <td>1500</td>\n",
       "      <td>e4 e5 d3 d6 Be3 c6 Be2 b5 Nd2 a5 a4 c5 axb5 Nc...</td>\n",
       "      <td>C20</td>\n",
       "      <td>3</td>\n",
       "      <td>King's Pawn Game: Leonardis Variation</td>\n",
       "      <td>King's Pawn Game</td>\n",
       "      <td>NaN</td>\n",
       "      <td>Leonardis Variation</td>\n",
       "    </tr>\n",
       "    <tr>\n",
       "      <th>3</th>\n",
       "      <td>4</td>\n",
       "      <td>True</td>\n",
       "      <td>61</td>\n",
       "      <td>Mate</td>\n",
       "      <td>White</td>\n",
       "      <td>20+0</td>\n",
       "      <td>daniamurashov</td>\n",
       "      <td>1439</td>\n",
       "      <td>adivanov2009</td>\n",
       "      <td>1454</td>\n",
       "      <td>d4 d5 Nf3 Bf5 Nc3 Nf6 Bf4 Ng4 e3 Nc6 Be2 Qd7 O...</td>\n",
       "      <td>D02</td>\n",
       "      <td>3</td>\n",
       "      <td>Queen's Pawn Game: Zukertort Variation</td>\n",
       "      <td>Queen's Pawn Game</td>\n",
       "      <td>NaN</td>\n",
       "      <td>Zukertort Variation</td>\n",
       "    </tr>\n",
       "    <tr>\n",
       "      <th>4</th>\n",
       "      <td>5</td>\n",
       "      <td>True</td>\n",
       "      <td>95</td>\n",
       "      <td>Mate</td>\n",
       "      <td>White</td>\n",
       "      <td>30+3</td>\n",
       "      <td>nik221107</td>\n",
       "      <td>1523</td>\n",
       "      <td>adivanov2009</td>\n",
       "      <td>1469</td>\n",
       "      <td>e4 e5 Nf3 d6 d4 Nc6 d5 Nb4 a3 Na6 Nc3 Be7 b4 N...</td>\n",
       "      <td>C41</td>\n",
       "      <td>5</td>\n",
       "      <td>Philidor Defense</td>\n",
       "      <td>Philidor Defense</td>\n",
       "      <td>NaN</td>\n",
       "      <td>NaN</td>\n",
       "    </tr>\n",
       "    <tr>\n",
       "      <th>...</th>\n",
       "      <td>...</td>\n",
       "      <td>...</td>\n",
       "      <td>...</td>\n",
       "      <td>...</td>\n",
       "      <td>...</td>\n",
       "      <td>...</td>\n",
       "      <td>...</td>\n",
       "      <td>...</td>\n",
       "      <td>...</td>\n",
       "      <td>...</td>\n",
       "      <td>...</td>\n",
       "      <td>...</td>\n",
       "      <td>...</td>\n",
       "      <td>...</td>\n",
       "      <td>...</td>\n",
       "      <td>...</td>\n",
       "      <td>...</td>\n",
       "    </tr>\n",
       "    <tr>\n",
       "      <th>20053</th>\n",
       "      <td>20054</td>\n",
       "      <td>True</td>\n",
       "      <td>24</td>\n",
       "      <td>Resign</td>\n",
       "      <td>White</td>\n",
       "      <td>10+10</td>\n",
       "      <td>belcolt</td>\n",
       "      <td>1691</td>\n",
       "      <td>jamboger</td>\n",
       "      <td>1220</td>\n",
       "      <td>d4 f5 e3 e6 Nf3 Nf6 Nc3 b6 Be2 Bb7 O-O Be7 Ne5...</td>\n",
       "      <td>A80</td>\n",
       "      <td>2</td>\n",
       "      <td>Dutch Defense</td>\n",
       "      <td>Dutch Defense</td>\n",
       "      <td>NaN</td>\n",
       "      <td>NaN</td>\n",
       "    </tr>\n",
       "    <tr>\n",
       "      <th>20054</th>\n",
       "      <td>20055</td>\n",
       "      <td>True</td>\n",
       "      <td>82</td>\n",
       "      <td>Mate</td>\n",
       "      <td>Black</td>\n",
       "      <td>10+0</td>\n",
       "      <td>jamboger</td>\n",
       "      <td>1233</td>\n",
       "      <td>farrukhasomiddinov</td>\n",
       "      <td>1196</td>\n",
       "      <td>d4 d6 Bf4 e5 Bg3 Nf6 e3 exd4 exd4 d5 c3 Bd6 Bd...</td>\n",
       "      <td>A41</td>\n",
       "      <td>2</td>\n",
       "      <td>Queen's Pawn</td>\n",
       "      <td>Queen's Pawn</td>\n",
       "      <td>NaN</td>\n",
       "      <td>NaN</td>\n",
       "    </tr>\n",
       "    <tr>\n",
       "      <th>20055</th>\n",
       "      <td>20056</td>\n",
       "      <td>True</td>\n",
       "      <td>35</td>\n",
       "      <td>Mate</td>\n",
       "      <td>White</td>\n",
       "      <td>10+0</td>\n",
       "      <td>jamboger</td>\n",
       "      <td>1219</td>\n",
       "      <td>schaaksmurf3</td>\n",
       "      <td>1286</td>\n",
       "      <td>d4 d5 Bf4 Nc6 e3 Nf6 c3 e6 Nf3 Be7 Bd3 O-O Nbd...</td>\n",
       "      <td>D00</td>\n",
       "      <td>3</td>\n",
       "      <td>Queen's Pawn Game: Mason Attack</td>\n",
       "      <td>Queen's Pawn Game</td>\n",
       "      <td>NaN</td>\n",
       "      <td>Mason Attack</td>\n",
       "    </tr>\n",
       "    <tr>\n",
       "      <th>20056</th>\n",
       "      <td>20057</td>\n",
       "      <td>True</td>\n",
       "      <td>109</td>\n",
       "      <td>Resign</td>\n",
       "      <td>White</td>\n",
       "      <td>10+0</td>\n",
       "      <td>marcodisogno</td>\n",
       "      <td>1360</td>\n",
       "      <td>jamboger</td>\n",
       "      <td>1227</td>\n",
       "      <td>e4 d6 d4 Nf6 e5 dxe5 dxe5 Qxd1+ Kxd1 Nd5 c4 Nb...</td>\n",
       "      <td>B07</td>\n",
       "      <td>4</td>\n",
       "      <td>Pirc Defense</td>\n",
       "      <td>Pirc Defense</td>\n",
       "      <td>NaN</td>\n",
       "      <td>NaN</td>\n",
       "    </tr>\n",
       "    <tr>\n",
       "      <th>20057</th>\n",
       "      <td>20058</td>\n",
       "      <td>True</td>\n",
       "      <td>78</td>\n",
       "      <td>Mate</td>\n",
       "      <td>Black</td>\n",
       "      <td>10+0</td>\n",
       "      <td>jamboger</td>\n",
       "      <td>1235</td>\n",
       "      <td>ffbob</td>\n",
       "      <td>1339</td>\n",
       "      <td>d4 d5 Bf4 Na6 e3 e6 c3 Nf6 Nf3 Bd7 Nbd2 b5 Bd3...</td>\n",
       "      <td>D00</td>\n",
       "      <td>3</td>\n",
       "      <td>Queen's Pawn Game: Mason Attack</td>\n",
       "      <td>Queen's Pawn Game</td>\n",
       "      <td>NaN</td>\n",
       "      <td>Mason Attack</td>\n",
       "    </tr>\n",
       "  </tbody>\n",
       "</table>\n",
       "<p>20058 rows × 17 columns</p>\n",
       "</div>"
      ],
      "text/plain": [
       "       game_id  rated  turns victory_status winner time_increment  \\\n",
       "0            1  False     13    Out of Time  White           15+2   \n",
       "1            2   True     16         Resign  Black           5+10   \n",
       "2            3   True     61           Mate  White           5+10   \n",
       "3            4   True     61           Mate  White           20+0   \n",
       "4            5   True     95           Mate  White           30+3   \n",
       "...        ...    ...    ...            ...    ...            ...   \n",
       "20053    20054   True     24         Resign  White          10+10   \n",
       "20054    20055   True     82           Mate  Black           10+0   \n",
       "20055    20056   True     35           Mate  White           10+0   \n",
       "20056    20057   True    109         Resign  White           10+0   \n",
       "20057    20058   True     78           Mate  Black           10+0   \n",
       "\n",
       "            white_id  white_rating            black_id  black_rating  \\\n",
       "0           bourgris          1500                a-00          1191   \n",
       "1               a-00          1322           skinnerua          1261   \n",
       "2             ischia          1496                a-00          1500   \n",
       "3      daniamurashov          1439        adivanov2009          1454   \n",
       "4          nik221107          1523        adivanov2009          1469   \n",
       "...              ...           ...                 ...           ...   \n",
       "20053        belcolt          1691            jamboger          1220   \n",
       "20054       jamboger          1233  farrukhasomiddinov          1196   \n",
       "20055       jamboger          1219        schaaksmurf3          1286   \n",
       "20056   marcodisogno          1360            jamboger          1227   \n",
       "20057       jamboger          1235               ffbob          1339   \n",
       "\n",
       "                                                   moves opening_code  \\\n",
       "0      d4 d5 c4 c6 cxd5 e6 dxe6 fxe6 Nf3 Bb4+ Nc3 Ba5...          D10   \n",
       "1      d4 Nc6 e4 e5 f4 f6 dxe5 fxe5 fxe5 Nxe5 Qd4 Nc6...          B00   \n",
       "2      e4 e5 d3 d6 Be3 c6 Be2 b5 Nd2 a5 a4 c5 axb5 Nc...          C20   \n",
       "3      d4 d5 Nf3 Bf5 Nc3 Nf6 Bf4 Ng4 e3 Nc6 Be2 Qd7 O...          D02   \n",
       "4      e4 e5 Nf3 d6 d4 Nc6 d5 Nb4 a3 Na6 Nc3 Be7 b4 N...          C41   \n",
       "...                                                  ...          ...   \n",
       "20053  d4 f5 e3 e6 Nf3 Nf6 Nc3 b6 Be2 Bb7 O-O Be7 Ne5...          A80   \n",
       "20054  d4 d6 Bf4 e5 Bg3 Nf6 e3 exd4 exd4 d5 c3 Bd6 Bd...          A41   \n",
       "20055  d4 d5 Bf4 Nc6 e3 Nf6 c3 e6 Nf3 Be7 Bd3 O-O Nbd...          D00   \n",
       "20056  e4 d6 d4 Nf6 e5 dxe5 dxe5 Qxd1+ Kxd1 Nd5 c4 Nb...          B07   \n",
       "20057  d4 d5 Bf4 Na6 e3 e6 c3 Nf6 Nf3 Bd7 Nbd2 b5 Bd3...          D00   \n",
       "\n",
       "       opening_moves                        opening_fullname  \\\n",
       "0                  5        Slav Defense: Exchange Variation   \n",
       "1                  4  Nimzowitsch Defense: Kennedy Variation   \n",
       "2                  3   King's Pawn Game: Leonardis Variation   \n",
       "3                  3  Queen's Pawn Game: Zukertort Variation   \n",
       "4                  5                        Philidor Defense   \n",
       "...              ...                                     ...   \n",
       "20053              2                           Dutch Defense   \n",
       "20054              2                            Queen's Pawn   \n",
       "20055              3         Queen's Pawn Game: Mason Attack   \n",
       "20056              4                            Pirc Defense   \n",
       "20057              3         Queen's Pawn Game: Mason Attack   \n",
       "\n",
       "         opening_shortname opening_response    opening_variation  \n",
       "0             Slav Defense              NaN   Exchange Variation  \n",
       "1      Nimzowitsch Defense              NaN    Kennedy Variation  \n",
       "2         King's Pawn Game              NaN  Leonardis Variation  \n",
       "3        Queen's Pawn Game              NaN  Zukertort Variation  \n",
       "4         Philidor Defense              NaN                  NaN  \n",
       "...                    ...              ...                  ...  \n",
       "20053        Dutch Defense              NaN                  NaN  \n",
       "20054         Queen's Pawn              NaN                  NaN  \n",
       "20055    Queen's Pawn Game              NaN         Mason Attack  \n",
       "20056         Pirc Defense              NaN                  NaN  \n",
       "20057    Queen's Pawn Game              NaN         Mason Attack  \n",
       "\n",
       "[20058 rows x 17 columns]"
      ]
     },
     "execution_count": 2,
     "metadata": {},
     "output_type": "execute_result"
    }
   ],
   "source": [
    "# Luetaan CSV-tiedosto\n",
    "pd.read_csv('chess_games.csv')"
   ]
  },
  {
   "cell_type": "code",
   "execution_count": 3,
   "id": "32e4f32e",
   "metadata": {},
   "outputs": [],
   "source": [
    "# Luodaaan CSV-tiedostosta DataFrame\n",
    "df = pd.read_csv('chess_games.csv')"
   ]
  },
  {
   "cell_type": "code",
   "execution_count": 5,
   "id": "f6b07870",
   "metadata": {
    "collapsed": true
   },
   "outputs": [
    {
     "data": {
      "text/plain": [
       "game_id               int64\n",
       "rated                  bool\n",
       "turns                 int64\n",
       "victory_status       object\n",
       "winner               object\n",
       "time_increment       object\n",
       "white_id             object\n",
       "white_rating          int64\n",
       "black_id             object\n",
       "black_rating          int64\n",
       "moves                object\n",
       "opening_code         object\n",
       "opening_moves         int64\n",
       "opening_fullname     object\n",
       "opening_shortname    object\n",
       "opening_response     object\n",
       "opening_variation    object\n",
       "dtype: object"
      ]
     },
     "execution_count": 5,
     "metadata": {},
     "output_type": "execute_result"
    }
   ],
   "source": [
    "# Varmistetaan tietotyypit\n",
    "df.dtypes"
   ]
  },
  {
   "cell_type": "code",
   "execution_count": 6,
   "id": "97dba874",
   "metadata": {
    "collapsed": true
   },
   "outputs": [
    {
     "name": "stdout",
     "output_type": "stream",
     "text": [
      "game_id                  0\n",
      "rated                    0\n",
      "turns                    0\n",
      "victory_status           0\n",
      "winner                   0\n",
      "time_increment           0\n",
      "white_id                 0\n",
      "white_rating             0\n",
      "black_id                 0\n",
      "black_rating             0\n",
      "moves                    0\n",
      "opening_code             0\n",
      "opening_moves            0\n",
      "opening_fullname         0\n",
      "opening_shortname        0\n",
      "opening_response     18851\n",
      "opening_variation     5660\n",
      "dtype: int64\n"
     ]
    }
   ],
   "source": [
    "# Varmistetaan tietokannan yhtenäisyys (etsitään tyhjiä tietueita)\n",
    "print(df.isnull().sum())"
   ]
  },
  {
   "cell_type": "code",
   "execution_count": 7,
   "id": "da83354d",
   "metadata": {},
   "outputs": [
    {
     "name": "stdout",
     "output_type": "stream",
     "text": [
      "Tietokannassa on 0 kpl kaksoiskappaleita.\n"
     ]
    }
   ],
   "source": [
    "# Varmistetaan tietokannan yhtenäisyys (etsitään kaksoiskappaleita)\n",
    "duplicates = df[df.duplicated()]\n",
    "print(f'Tietokannassa on {len(duplicates)} kpl kaksoiskappaleita.')"
   ]
  },
  {
   "cell_type": "code",
   "execution_count": 11,
   "id": "fea4521b",
   "metadata": {
    "collapsed": true
   },
   "outputs": [
    {
     "name": "stdout",
     "output_type": "stream",
     "text": [
      "<class 'pandas.core.frame.DataFrame'>\n",
      "RangeIndex: 20058 entries, 0 to 20057\n",
      "Data columns (total 17 columns):\n",
      " #   Column             Non-Null Count  Dtype \n",
      "---  ------             --------------  ----- \n",
      " 0   game_id            20058 non-null  int64 \n",
      " 1   rated              20058 non-null  bool  \n",
      " 2   turns              20058 non-null  int64 \n",
      " 3   victory_status     20058 non-null  object\n",
      " 4   winner             20058 non-null  object\n",
      " 5   time_increment     20058 non-null  object\n",
      " 6   white_id           20058 non-null  object\n",
      " 7   white_rating       20058 non-null  int64 \n",
      " 8   black_id           20058 non-null  object\n",
      " 9   black_rating       20058 non-null  int64 \n",
      " 10  moves              20058 non-null  object\n",
      " 11  opening_code       20058 non-null  object\n",
      " 12  opening_moves      20058 non-null  int64 \n",
      " 13  opening_fullname   20058 non-null  object\n",
      " 14  opening_shortname  20058 non-null  object\n",
      " 15  opening_response   1207 non-null   object\n",
      " 16  opening_variation  14398 non-null  object\n",
      "dtypes: bool(1), int64(5), object(11)\n",
      "memory usage: 2.5+ MB\n",
      "None\n"
     ]
    }
   ],
   "source": [
    "# Tulostetaan yhteenveto tietokannasta\n",
    "print(df.info())"
   ]
  },
  {
   "cell_type": "code",
   "execution_count": 59,
   "id": "d1fa9217",
   "metadata": {},
   "outputs": [
    {
     "data": {
      "image/png": "[encoded data removed]",
      "text/plain": [
       "<Figure size 640x480 with 1 Axes>"
      ]
     },
     "metadata": {},
     "output_type": "display_data"
    }
   ],
   "source": [
    "# Ympyräkaavion luominen voittojen jakautumasta\n",
    "\n",
    "# Valkoisten, mustien ja tasapelien lukumäärä\n",
    "white_wins = len(df[df['winner'] == 'White'])\n",
    "black_wins = len(df[df['winner'] == 'Black'])\n",
    "draws = len(df[df['winner'] == 'Draw'])\n",
    "\n",
    "# Lasketaan edellä mainittujen %-osuus\n",
    "total_games = len(df)\n",
    "white_win_pct = white_wins / total_games * 100\n",
    "black_win_pct = black_wins / total_games * 100\n",
    "draw_pct = draws / total_games * 100\n",
    "\n",
    "# Piirretään ympyräkaavio prosenttiosuusksista\n",
    "labels = ['Valkoinen voitti', 'Musta voitti', 'Tasapeli']\n",
    "sizes = [white_win_pct, black_win_pct, draw_pct]\n",
    "colors = ['#aaeff3', '#fbd0fa', '#feca6b']\n",
    "plt.pie(sizes, labels=labels, colors=colors, autopct='%1.1f%%', startangle=45)\n",
    "plt.axis('equal')\n",
    "plt.title('Shakkipelien tulokset')\n",
    "plt.show()"
   ]
  },
  {
   "cell_type": "code",
   "execution_count": 60,
   "id": "b0e5c9a4",
   "metadata": {},
   "outputs": [
    {
     "data": {
      "image/png": "[encoded data removed]",
      "text/plain": [
       "<Figure size 640x480 with 1 Axes>"
      ]
     },
     "metadata": {},
     "output_type": "display_data"
    }
   ],
   "source": [
    "# Ympyräkaavion luominen voitetuista peleistä pelaajan Elo-luvun mukaan\n",
    "\n",
    "# Lasketaan voitettujen pelien lukumäärä, kun pelaajan Elo-luku oli huonompi\n",
    "worse_rating_wins = len(df[(df['winner'] == 'White') & (df['white_rating'] < df['black_rating'])]) + len(df[(df['winner'] == 'Black') & (df['black_rating'] < df['white_rating'])])\n",
    "\n",
    "# Lasketaan edellä mainitun %-osuus\n",
    "total_games = len(df)\n",
    "worse_rating_win_pct = worse_rating_wins / total_games * 100\n",
    "\n",
    "# Lasketaan paremman pelaajan osuus\n",
    "better_rating_win_pct = 100 - worse_rating_win_pct\n",
    "\n",
    "# Piirretään ympyräkaavio prosenttiosuusksista\n",
    "labels = ['Huonompi Elo-luku', 'Parempi Elo-luku']\n",
    "sizes = [worse_rating_win_pct, better_rating_win_pct]\n",
    "colors = ['#aaeff3', '#fbd0fa']\n",
    "plt.pie(sizes, labels=labels, colors=colors, autopct='%1.1f%%', startangle=90)\n",
    "plt.axis('equal')\n",
    "plt.title('Voitot pelaajan Elo-luvun mukaan')\n",
    "plt.show()"
   ]
  },
  {
   "cell_type": "code",
   "execution_count": 23,
   "id": "1c08e999",
   "metadata": {},
   "outputs": [
    {
     "data": {
      "image/png": "[encoded data removed]",
      "text/plain": [
       "<Figure size 640x480 with 1 Axes>"
      ]
     },
     "metadata": {},
     "output_type": "display_data"
    }
   ],
   "source": [
    "# Pylväskaavion luominen eniten voittoon johtaneista shakkiavauksista\n",
    "\n",
    "# Haetaan DataFramesta voittajat\n",
    "df = df[df['winner'] != 'Draw']\n",
    "\n",
    "# Lasketaan jokaisen voitetun shakkiavauksen lukumäärä\n",
    "opening_wins = df.groupby('opening_shortname').size()\n",
    "\n",
    "# Lasketaan kokonaisvoittomäärä\n",
    "total_wins = opening_wins.sum()\n",
    "\n",
    "# Lasketaan jokaisen shakkiavauksen %-osuus\n",
    "opening_win_percentages = opening_wins / total_wins * 100\n",
    "\n",
    "# Järjestetään tulokset alenevaan järjestykseen\n",
    "opening_win_percentages = opening_win_percentages.sort_values(ascending=False)\n",
    "\n",
    "# Valitaan 10 parasta shakkiavausta\n",
    "top_10_openings = opening_win_percentages.head(10)\n",
    "\n",
    "# Piirretään pylväskaavio prosenttiosuusksista\n",
    "plt.barh(top_10_openings.index[::-1], top_10_openings.values[::-1], color='#aaeff3')\n",
    "plt.xlabel('Voittojen lukumäärä (%)')\n",
    "plt.ylabel('Shakkiavaus')\n",
    "plt.title('10 parasta shakkiavausta')\n",
    "plt.show()"
   ]
  },
  {
   "cell_type": "code",
   "execution_count": 44,
   "id": "b76f674f",
   "metadata": {},
   "outputs": [
    {
     "name": "stdout",
     "output_type": "stream",
     "text": [
      "Kuningatargambiitti-avauksella pelattujen pelien kokonaismäärä on 168.\n"
     ]
    }
   ],
   "source": [
    "# Bonuskysymys (paras vastasiirto kuningatargambiitti-avaukseen)\n",
    "\n",
    "# Lasketaan D06-avauksella (kuningatargambiitti) pelattujen pelien määrä\n",
    "d06_games = len(df[df['opening_code'] == 'D06'])\n",
    "\n",
    "# Tulostetaan pelien lukumäärä\n",
    "print(f'Kuningatargambiitti-avauksella pelattujen pelien kokonaismäärä on {d06_games}.')"
   ]
  },
  {
   "cell_type": "code",
   "execution_count": 45,
   "id": "db9266d4",
   "metadata": {},
   "outputs": [
    {
     "name": "stdout",
     "output_type": "stream",
     "text": [
      "Kuningatargambiitti-avauksella pelatuista peleistä on hävitty 58 peliä.\n"
     ]
    }
   ],
   "source": [
    "# Suodatetaan D06-avauksella pelatut pelit\n",
    "d06_games = df[df['opening_code'] == 'D06']\n",
    "\n",
    "# Lasketaan hävittyjen pelien määrä\n",
    "lost_games = len(d06_games[d06_games['winner'] == 'Black'])\n",
    "\n",
    "# Tulosteataan hävittyjen pelien lukumäärä\n",
    "print(f'Kuningatargambiitti-avauksella pelatuista peleistä on hävitty {lost_games} peliä.')"
   ]
  },
  {
   "cell_type": "code",
   "execution_count": 49,
   "id": "a48a022c",
   "metadata": {},
   "outputs": [
    {
     "name": "stdout",
     "output_type": "stream",
     "text": [
      "Yleisin neljäs siirto kuningatarkambiitti-avauksessa, kun valkoinen on hävinnyt, on Nf6.\n"
     ]
    }
   ],
   "source": [
    "# Suodatetaan pelit, joissa valkoinen on hävinnyt D06-avauksella\n",
    "lost_games = df[(df['opening_code'] == 'D06') & (df['winner'] == 'Black')]\n",
    "\n",
    "# Lasketaan, mikä on yleisin neljäs arvo\n",
    "fourth_move = lost_games['moves'].str.split().str[3].value_counts()\n",
    "\n",
    "# Tulostetaan yleisin neljännen siirron arvo\n",
    "print(f'Yleisin neljäs siirto kuningatarkambiitti-avauksessa, kun valkoinen on hävinnyt, on {fourth_move.index[0]}.')"
   ]
  },
  {
   "cell_type": "code",
   "execution_count": 65,
   "id": "75f3c8e5",
   "metadata": {},
   "outputs": [
    {
     "name": "stdout",
     "output_type": "stream",
     "text": [
      "Neljäs siirto, Nf6, esiintyy hävityissä kuningatargambiitti-peleissä 30 kertaa.\n"
     ]
    }
   ],
   "source": [
    "# Lasketaan yleisimmän neljännen siirron esiintymiskerrat hävityissä peleissä\n",
    "fourth_move_count = len(df[(df['opening_code'] == 'D06') & (df['winner'] == 'Black') & (df['moves'].str.split().str[3] == fourth_move.index[0])])\n",
    "\n",
    "# Tulostetaan neljännen siirron esiintymiskerrat\n",
    "print(f'Neljäs siirto, {fourth_move.index[0]}, esiintyy hävityissä kuningatargambiitti-peleissä {fourth_move_count} kertaa.')"
   ]
  },
  {
   "cell_type": "code",
   "execution_count": 71,
   "id": "2dc797be",
   "metadata": {},
   "outputs": [
    {
     "name": "stdout",
     "output_type": "stream",
     "text": [
      "Vastaus bonuskysymykseen: Jos valkoinen aloittaa kuningatargambiitilla, mustan paras vastaus tähän on ollut Nf6. Kaikista näistä valkoisen häviämistä peleistä, musta on käyttänyt Nf6-siirtoa seuraavana siirtona 51.72 % kerroista.\n"
     ]
    }
   ],
   "source": [
    "# Suodatetaan pelit, joissa valkoinen on hävinnyt D06-avauksella\n",
    "lost_games = df[(df['opening_code'] == 'D06') & (df['winner'] == 'Black')]\n",
    "\n",
    "# Lasketaan hävittyjen pelien määrä\n",
    "total_lost_games = len(lost_games)\n",
    "\n",
    "# Lasketaan, mikä on yleisin neljäs arvo\n",
    "fourth_moves = lost_games['moves'].str.split().str[3].value_counts()\n",
    "\n",
    "# Lasketaan neljännen siirron esiintymiskerrat hävityissä peleissä\n",
    "fourth_move_count = len(lost_games[lost_games['moves'].str.split().str[3] == fourth_move.index[0]])\n",
    "\n",
    "# Lasketaan neljännen siirron esiintymisprosentti hävityissä peleissä\n",
    "fourth_move_percent = fourth_move_count / total_lost_games * 100\n",
    "\n",
    "# Tulostetaan yleisin neljännen siirron arvo ja sen osuus hävityistä peleistä\n",
    "print(f'Vastaus bonuskysymykseen: Jos valkoinen aloittaa kuningatargambiitilla, mustan paras vastaus tähän on ollut {fourth_move.index[0]}. Kaikista näistä valkoisen häviämistä peleistä, musta on käyttänyt {fourth_move.index[0]}-siirtoa seuraavana siirtona {fourth_move_percent:.2f} % kerroista.')"
   ]
  },
  {
   "cell_type": "code",
   "execution_count": null,
   "id": "ee12fbb4",
   "metadata": {},
   "outputs": [],
   "source": []
  }
 ],
 "metadata": {
  "kernelspec": {
   "display_name": "Python 3 (ipykernel)",
   "language": "python",
   "name": "python3"
  },
  "language_info": {
   "codemirror_mode": {
    "name": "ipython",
    "version": 3
   },
   "file_extension": ".py",
   "mimetype": "text/x-python",
   "name": "python",
   "nbconvert_exporter": "python",
   "pygments_lexer": "ipython3",
   "version": "3.10.13"
  }
 },
 "nbformat": 4,
 "nbformat_minor": 5
}
